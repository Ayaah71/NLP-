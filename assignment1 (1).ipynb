{
  "nbformat": 4,
  "nbformat_minor": 0,
  "metadata": {
    "colab": {
      "provenance": []
    },
    "kernelspec": {
      "name": "python3",
      "display_name": "Python 3"
    },
    "language_info": {
      "name": "python"
    }
  },
  "cells": [
    {
      "cell_type": "markdown",
      "source": [
        "#first we Setting up Tesseract OCR and installing it in the next 3 **Cells**"
      ],
      "metadata": {
        "id": "OXTRS09P0dIF"
      }
    },
    {
      "cell_type": "code",
      "source": [
        "!pip install pytesseract\n",
        "!sudo apt install tesseract-ocr"
      ],
      "metadata": {
        "id": "Cjezs7dSpbPE"
      },
      "execution_count": null,
      "outputs": []
    },
    {
      "cell_type": "code",
      "source": [
        "import pytesseract\n",
        "pytesseract.pytesseract.tesseract_cmd = r'C:\\Program Files\\Tesseract-OCR\\tesseract.exe'\n"
      ],
      "metadata": {
        "id": "CgVSwu6QVoOd"
      },
      "execution_count": 11,
      "outputs": []
    },
    {
      "cell_type": "code",
      "source": [
        "pytesseract.pytesseract.tesseract_cmd = r'/usr/bin/tesseract'"
      ],
      "metadata": {
        "id": "vN2a78BApbVt"
      },
      "execution_count": 13,
      "outputs": []
    },
    {
      "cell_type": "markdown",
      "source": [
        "# Importing The libraries"
      ],
      "metadata": {
        "id": "lwodR1_a0yYr"
      }
    },
    {
      "cell_type": "code",
      "source": [
        "import cv2\n",
        "import re\n",
        "from PIL import Image"
      ],
      "metadata": {
        "id": "WySEML2CVoQ9"
      },
      "execution_count": 14,
      "outputs": []
    },
    {
      "cell_type": "markdown",
      "source": [
        "\n",
        "\n",
        "# Reading the image"
      ],
      "metadata": {
        "id": "xhrWnP390ySV"
      }
    },
    {
      "cell_type": "code",
      "source": [
        "i=cv2.imread(\"/content/assignment1_doc.png\")\n",
        "gray=cv2.cvtColor(i,cv2.COLOR_BGR2GRAY) #we used gray scale because OCR works better with it"
      ],
      "metadata": {
        "id": "qmBPmCYtVoUU"
      },
      "execution_count": 16,
      "outputs": []
    },
    {
      "cell_type": "code",
      "source": [
        "extracted_text=pytesseract.image_to_string(gray) #we extract the from the image to text"
      ],
      "metadata": {
        "id": "1_U1q9xQiyjZ"
      },
      "execution_count": 17,
      "outputs": []
    },
    {
      "cell_type": "code",
      "source": [
        "print(\"Extracted Text:\\n\", extracted_text)"
      ],
      "metadata": {
        "id": "oQFClNfhjA2i",
        "colab": {
          "base_uri": "https://localhost:8080/"
        },
        "outputId": "fdbf4059-94fc-4531-e6cb-71cecd27d059"
      },
      "execution_count": 18,
      "outputs": [
        {
          "output_type": "stream",
          "name": "stdout",
          "text": [
            "Extracted Text:\n",
            " Alamein International University AIU. Natural Language Processing\n",
            "Faculty of Computer Science & ALAMEIN Course Code : AIE241\n",
            "\n",
            "Engineering INTERNATIONAL UNIVERSITY\n",
            "Algal ywalellaeala\n",
            "\n",
            "Contact Information Directory - Updated February 22, 2025\n",
            "\n",
            "Welcome to our comprehensive contact list! Below you'll find a variety of details for individuals\n",
            "and organizations. Extract the requested data using your skills!\n",
            "\n",
            " \n",
            "\n",
            "Individual Contacts:\n",
            "\n",
            "- John Doe: john.doe123@gmail.com, Phone: (555) 123-4567, Alt: 555-987-6543, Birthday:\n",
            "12/15/1990\n",
            "\n",
            "- Jane Smith: jane.smith@company.co.uk, Mobile: +1 800 555 9999, Joined: 2023.01.20\n",
            "\n",
            "- Alex Miller: alex.mueller_89@uni-berlin.de, Tel: +49-30-12345678, DOB: 05-22-1985\n",
            "\n",
            "- Priya Patel: priya.patel-work@outlook.com, Contact: 123.456.7890, Event Date: 15/03/2024\n",
            "\n",
            "Organizations:\n",
            "\n",
            "- TechCorp: support@techcorp.com, HR: hr@techcorp.io, Phone: 888-555-1234, Founded:\n",
            "1995.10.01\n",
            "\n",
            "- EduLearn: info@edulearn.org, Alt Email: contact_us@edulearn.edu, Tel: +44 20 7946 0958,\n",
            "Start: 01-01-2000\n",
            "\n",
            "- HealthPlus: admin@healthplus.net, Emergency: +911234567890, Registration: 25/12/2019\n",
            "\n",
            "Mixed Cases:\n",
            "\n",
            "- Random User: random.user+test@yahoo.com, Phone: (123)456-7890, Last Update:\n",
            "2024-12-31\n",
            "\n",
            "- Special Case: special-case@sub.domain.com, Intl: +33 1 23 45 67 89, Date: 10.05.2023\n",
            "- Noisy Data: noise123@data.org, Tel: 555 123 4567, DOB: 07/04/88 (short year format!)\n",
            "\n",
            "Edge Cases:\n",
            "\n",
            "- Email with numbers: user12345@domain123.net\n",
            "- Date with text: Meeting on 15-Jan-2023\n",
            "\n",
            "- Phone without separators: 1234567890\n",
            "\n",
            "- Intl with spaces: +1 555 123 4567\n",
            "\n",
            "- Partial Date: 2025/03 (year/month only)\n",
            "\n",
            "Miscellaneous:\n",
            "\n",
            "- Website: https://www.example.com\n",
            "- Meeting Time: 14:30 PST\n",
            "\n",
            "- Code: REF-2025-XYZ\n",
            "\n",
            "- Amount: $123.45\n",
            "\f\n"
          ]
        }
      ]
    },
    {
      "cell_type": "code",
      "source": [
        "Patterns={\n",
        "\n",
        "    \"emails\":r\"[a-zA-Z0-9._%+-]+@[a-zA-Z0-9.-]+\\.[a-zA-Z]{2,}\", #regax for emails format like john.doe123@gmail.com\n",
        "    \"dates\":r\"\\b\\d{1,2}[\\/\\.-]\\d{1,2}[\\/\\.-]\\d{2,4}\\b|\\b\\d{4}[\\/\\.-]\\d{1,2}[\\/\\.-]\\d{1,2\\b}\",#regax for dates format like 12/15/1990\n",
        "    \"phone_numbers\":r\"(\\+?\\d{1,3}[-.\\s]?)?(\\(?\\d{2,4}\\)?[-.\\s]?)?\\d{3,4}[-.\\s]?\\d{3,4}\",#regax for phone_numbers format like ('888-', '')\n",
        "    \"websites\":r\"https?://[a-zA-Z0-9./_-]+\",#regax for websites format like https://www.example.com\n",
        "    \"times\":r\"\\b\\d{1,2}:\\d{2}\\s?(?:AM|PM|PST|CST|GMT)?\\b\",#regax for times format like 14:30 PST\n",
        "    \"codes\":r\"\\b[A-Z]+-\\d{4}-[A-Z]+b\",#regax for codes format like REF-2025-XYZ\n",
        "    \"amounts\":r\"\\$\\d+(?:\\.\\d{2})?\"#regax for amounts format like $123.45\n",
        "\n",
        "}"
      ],
      "metadata": {
        "id": "ya4Egej5jBGI"
      },
      "execution_count": 19,
      "outputs": []
    },
    {
      "cell_type": "code",
      "source": [
        "extracted_data={key: re.findall(pattern , extracted_text) for key , pattern in Patterns.items()}#now we search the patterns in our text we we extract"
      ],
      "metadata": {
        "id": "bHuDF2w4nGs1"
      },
      "execution_count": 20,
      "outputs": []
    },
    {
      "cell_type": "code",
      "source": [
        "print('\\nExtracted Data:')\n",
        "for key, values in extracted_data.items():\n",
        "  print(f'{key}: {values}') # iterates over the extracted data and print it in structure format"
      ],
      "metadata": {
        "id": "bUSj4HIaoAGM",
        "colab": {
          "base_uri": "https://localhost:8080/"
        },
        "outputId": "a3314446-b0b2-49fb-f1c4-53c5d887b572"
      },
      "execution_count": 21,
      "outputs": [
        {
          "output_type": "stream",
          "name": "stdout",
          "text": [
            "\n",
            "Extracted Data:\n",
            "emails: ['john.doe123@gmail.com', 'jane.smith@company.co.uk', 'alex.mueller_89@uni-berlin.de', 'priya.patel-work@outlook.com', 'support@techcorp.com', 'hr@techcorp.io', 'info@edulearn.org', 'contact_us@edulearn.edu', 'admin@healthplus.net', 'random.user+test@yahoo.com', 'special-case@sub.domain.com', 'noise123@data.org', 'user12345@domain123.net']\n",
            "dates: ['12/15/1990', '05-22-1985', '15/03/2024', '01-01-2000', '25/12/2019', '10.05.2023', '07/04/88']\n",
            "phone_numbers: [('', '(555) '), ('555-', ''), ('+1 ', '800 '), ('+49-', '30-'), ('123.', ''), ('888-', ''), ('+44 ', '20 '), ('+911', '234'), ('', '(123)'), ('555 ', ''), ('123', ''), ('+1 ', '555 ')]\n",
            "websites: ['https://www.example.com']\n",
            "times: ['14:30 PST']\n",
            "codes: []\n",
            "amounts: ['$123.45']\n"
          ]
        }
      ]
    },
    {
      "cell_type": "code",
      "source": [],
      "metadata": {
        "id": "u91MygplqCzv"
      },
      "execution_count": null,
      "outputs": []
    }
  ]
}